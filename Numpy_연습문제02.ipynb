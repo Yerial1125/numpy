{
 "cells": [
  {
   "cell_type": "markdown",
   "id": "75a2f0d6",
   "metadata": {},
   "source": [
    "## Numpy 연습문제2"
   ]
  },
  {
   "cell_type": "code",
   "execution_count": 1,
   "id": "c7d94cdc",
   "metadata": {},
   "outputs": [],
   "source": [
    "import numpy as np"
   ]
  },
  {
   "cell_type": "markdown",
   "id": "ce6bc591",
   "metadata": {},
   "source": [
    "#### 1. 값 20~49를 갖는 벡터 x  생성하기"
   ]
  },
  {
   "cell_type": "code",
   "execution_count": 2,
   "id": "8187b84f",
   "metadata": {},
   "outputs": [
    {
     "data": {
      "text/plain": [
       "array([20, 21, 22, 23, 24, 25, 26, 27, 28, 29, 30, 31, 32, 33, 34, 35, 36,\n",
       "       37, 38, 39, 40, 41, 42, 43, 44, 45, 46, 47, 48, 49])"
      ]
     },
     "execution_count": 2,
     "metadata": {},
     "output_type": "execute_result"
    }
   ],
   "source": [
    "x = np.arange(20,50)\n",
    "x"
   ]
  },
  {
   "cell_type": "markdown",
   "id": "ab1b401c",
   "metadata": {},
   "source": [
    "#### 2. 1번에서 생성한 벡터 요소를 역순으로 갖는 벡터 출력하기 "
   ]
  },
  {
   "cell_type": "code",
   "execution_count": 3,
   "id": "47a7d869",
   "metadata": {},
   "outputs": [
    {
     "data": {
      "text/plain": [
       "array([49, 48, 47, 46, 45, 44, 43, 42, 41, 40, 39, 38, 37, 36, 35, 34, 33,\n",
       "       32, 31, 30, 29, 28, 27, 26, 25, 24, 23, 22, 21, 20])"
      ]
     },
     "execution_count": 3,
     "metadata": {},
     "output_type": "execute_result"
    }
   ],
   "source": [
    "x[::-1]"
   ]
  },
  {
   "cell_type": "markdown",
   "id": "fbb1f612",
   "metadata": {},
   "source": [
    "#### 3. 다음의 코드의 실행 결과를 예상해보기"
   ]
  },
  {
   "cell_type": "markdown",
   "id": "d33d1418",
   "metadata": {},
   "source": [
    "**1)**"
   ]
  },
  {
   "cell_type": "markdown",
   "id": "47a61ec4",
   "metadata": {},
   "source": [
    "0 * np.nan"
   ]
  },
  {
   "cell_type": "markdown",
   "id": "b7e2a2af",
   "metadata": {},
   "source": [
    "--> Nan"
   ]
  },
  {
   "cell_type": "markdown",
   "id": "3a0b8761",
   "metadata": {},
   "source": [
    "**2)**"
   ]
  },
  {
   "cell_type": "markdown",
   "id": "14fc2ff4",
   "metadata": {},
   "source": [
    "np.nan == np.nan"
   ]
  },
  {
   "cell_type": "markdown",
   "id": "7602afad",
   "metadata": {},
   "source": [
    "--> False"
   ]
  },
  {
   "cell_type": "markdown",
   "id": "e908946d",
   "metadata": {},
   "source": [
    "**3)**"
   ]
  },
  {
   "cell_type": "markdown",
   "id": "61598160",
   "metadata": {},
   "source": [
    "np.nan - np.nan"
   ]
  },
  {
   "cell_type": "markdown",
   "id": "8f791c50",
   "metadata": {},
   "source": [
    "-->Nan"
   ]
  },
  {
   "cell_type": "markdown",
   "id": "98528724",
   "metadata": {},
   "source": [
    "**4)**"
   ]
  },
  {
   "cell_type": "markdown",
   "id": "32cf83b5",
   "metadata": {},
   "source": [
    "np.inf > np.nan"
   ]
  },
  {
   "cell_type": "markdown",
   "id": "5b765f44",
   "metadata": {},
   "source": [
    "--> False"
   ]
  },
  {
   "cell_type": "markdown",
   "id": "ae18edf7",
   "metadata": {},
   "source": [
    "**5)**"
   ]
  },
  {
   "cell_type": "markdown",
   "id": "026d09bc",
   "metadata": {},
   "source": [
    "np.nan in set([np.nan])"
   ]
  },
  {
   "cell_type": "markdown",
   "id": "c954b6c9",
   "metadata": {},
   "source": [
    "--> True"
   ]
  },
  {
   "cell_type": "markdown",
   "id": "318c2e9c",
   "metadata": {},
   "source": [
    "#### 4. 모두 1의 요소를 갖는 5X3 크기 행렬 A와 3X2 크기 행렬 B 생성하기"
   ]
  },
  {
   "cell_type": "code",
   "execution_count": 4,
   "id": "c21bddca",
   "metadata": {},
   "outputs": [
    {
     "data": {
      "text/plain": [
       "array([[1., 1., 1.],\n",
       "       [1., 1., 1.],\n",
       "       [1., 1., 1.],\n",
       "       [1., 1., 1.],\n",
       "       [1., 1., 1.]])"
      ]
     },
     "execution_count": 4,
     "metadata": {},
     "output_type": "execute_result"
    }
   ],
   "source": [
    "A = np.ones((5,3))\n",
    "A"
   ]
  },
  {
   "cell_type": "code",
   "execution_count": 5,
   "id": "2f988fcd",
   "metadata": {},
   "outputs": [
    {
     "data": {
      "text/plain": [
       "array([[1., 1.],\n",
       "       [1., 1.],\n",
       "       [1., 1.]])"
      ]
     },
     "execution_count": 5,
     "metadata": {},
     "output_type": "execute_result"
    }
   ],
   "source": [
    "B = np.ones((3,2))\n",
    "B"
   ]
  },
  {
   "cell_type": "markdown",
   "id": "018e7359",
   "metadata": {},
   "source": [
    "#### 5. 4번에서 생성한 두 행렬의 곱(dot)을 한 결과는?"
   ]
  },
  {
   "cell_type": "code",
   "execution_count": 6,
   "id": "ddca391b",
   "metadata": {},
   "outputs": [
    {
     "data": {
      "text/plain": [
       "array([[3., 3.],\n",
       "       [3., 3.],\n",
       "       [3., 3.],\n",
       "       [3., 3.],\n",
       "       [3., 3.]])"
      ]
     },
     "execution_count": 6,
     "metadata": {},
     "output_type": "execute_result"
    }
   ],
   "source": [
    "A.dot(B)"
   ]
  },
  {
   "cell_type": "code",
   "execution_count": 7,
   "id": "b823824b",
   "metadata": {},
   "outputs": [
    {
     "data": {
      "text/plain": [
       "array([[3., 3.],\n",
       "       [3., 3.],\n",
       "       [3., 3.],\n",
       "       [3., 3.],\n",
       "       [3., 3.]])"
      ]
     },
     "execution_count": 7,
     "metadata": {},
     "output_type": "execute_result"
    }
   ],
   "source": [
    "np.dot(A,B)"
   ]
  },
  {
   "cell_type": "markdown",
   "id": "8e736ddb",
   "metadata": {},
   "source": [
    "#### 6. 다음의 결과를 예상하시오."
   ]
  },
  {
   "cell_type": "markdown",
   "id": "4ff45003",
   "metadata": {},
   "source": [
    "**1)**"
   ]
  },
  {
   "cell_type": "markdown",
   "id": "f828cb0c",
   "metadata": {},
   "source": [
    "np.array(0) / np.array(0)"
   ]
  },
  {
   "cell_type": "markdown",
   "id": "bbbd0fa4",
   "metadata": {},
   "source": [
    "--> Nan"
   ]
  },
  {
   "cell_type": "markdown",
   "id": "296eb6aa",
   "metadata": {},
   "source": [
    "**2)**"
   ]
  },
  {
   "cell_type": "markdown",
   "id": "f01b6358",
   "metadata": {},
   "source": [
    "np.array(0) // np.array(0)"
   ]
  },
  {
   "cell_type": "markdown",
   "id": "c01cdd7e",
   "metadata": {},
   "source": [
    "--> 0"
   ]
  },
  {
   "cell_type": "markdown",
   "id": "ff663312",
   "metadata": {},
   "source": [
    "**3)**"
   ]
  },
  {
   "cell_type": "markdown",
   "id": "06a4675c",
   "metadata": {},
   "source": [
    "np.array([np.nan]).astype(int).astype(float)"
   ]
  },
  {
   "cell_type": "markdown",
   "id": "760374f9",
   "metadata": {},
   "source": [
    "--> Nan"
   ]
  },
  {
   "cell_type": "code",
   "execution_count": 18,
   "id": "9c948062",
   "metadata": {},
   "outputs": [
    {
     "data": {
      "text/plain": [
       "array([-2.14748365e+09])"
      ]
     },
     "execution_count": 18,
     "metadata": {},
     "output_type": "execute_result"
    }
   ],
   "source": [
    "np.array([np.nan]).astype(int).astype(float)"
   ]
  },
  {
   "cell_type": "markdown",
   "id": "033314bc",
   "metadata": {},
   "source": [
    "#### 7. 1번에서 생성한 벡터에서 30에서 38사이의 모든 요소 가져오기"
   ]
  },
  {
   "cell_type": "code",
   "execution_count": 8,
   "id": "c57c9bb2",
   "metadata": {},
   "outputs": [
    {
     "data": {
      "text/plain": [
       "array([30, 31, 32, 33, 34, 35, 36, 37, 38])"
      ]
     },
     "execution_count": 8,
     "metadata": {},
     "output_type": "execute_result"
    }
   ],
   "source": [
    "x[(x >= 30 ) & (x <= 38)]"
   ]
  },
  {
   "cell_type": "markdown",
   "id": "8a00709d",
   "metadata": {},
   "source": [
    "#### 8. 크기 10의 실수 랜덤 벡터를 생성하고, 최대값을 0으로 변경하기"
   ]
  },
  {
   "cell_type": "code",
   "execution_count": 9,
   "id": "7d9caf3f",
   "metadata": {},
   "outputs": [
    {
     "data": {
      "text/plain": [
       "array([0.67104695, 0.44314377, 0.24597823, 0.89260633, 0.16845501,\n",
       "       0.22386541, 0.30264597, 0.74157602, 0.96478038, 0.28128085])"
      ]
     },
     "execution_count": 9,
     "metadata": {},
     "output_type": "execute_result"
    }
   ],
   "source": [
    "rand_arr = np.random.rand(10)\n",
    "rand_arr"
   ]
  },
  {
   "cell_type": "code",
   "execution_count": 10,
   "id": "7e12060d",
   "metadata": {},
   "outputs": [],
   "source": [
    "rand_arr[np.argsort(rand_arr)[-1]] = 0"
   ]
  },
  {
   "cell_type": "code",
   "execution_count": 11,
   "id": "959cb128",
   "metadata": {},
   "outputs": [
    {
     "data": {
      "text/plain": [
       "array([0.67104695, 0.44314377, 0.24597823, 0.89260633, 0.16845501,\n",
       "       0.22386541, 0.30264597, 0.74157602, 0.        , 0.28128085])"
      ]
     },
     "execution_count": 11,
     "metadata": {},
     "output_type": "execute_result"
    }
   ],
   "source": [
    "rand_arr"
   ]
  },
  {
   "cell_type": "code",
   "execution_count": 20,
   "id": "72f07182",
   "metadata": {},
   "outputs": [
    {
     "name": "stdout",
     "output_type": "stream",
     "text": [
      "[0.12003898 0.25106763 0.10183267 0.71607238 0.54586677 0.34472066\n",
      " 0.3905203  0.94265579 0.01607846 0.20156561]\n"
     ]
    },
    {
     "data": {
      "text/plain": [
       "array([0.12003898, 0.25106763, 0.10183267, 0.71607238, 0.54586677,\n",
       "       0.34472066, 0.3905203 , 0.        , 0.01607846, 0.20156561])"
      ]
     },
     "execution_count": 20,
     "metadata": {},
     "output_type": "execute_result"
    }
   ],
   "source": [
    "x= np.random.rand(10)\n",
    "print(x)\n",
    "x[x.argmax()]=0\n",
    "# x[x == x.max()] = 0\n",
    "x"
   ]
  },
  {
   "cell_type": "markdown",
   "id": "ef49effa",
   "metadata": {},
   "source": [
    "#### 9. 1에서 10사이의 실수를 등간격으로 50개 갖는 벡터를 생성하되 32비트 실수로 생성하기"
   ]
  },
  {
   "cell_type": "code",
   "execution_count": 12,
   "id": "100f7793",
   "metadata": {},
   "outputs": [
    {
     "data": {
      "text/plain": [
       "array([ 1.       ,  1.1836735,  1.3673469,  1.5510204,  1.7346939,\n",
       "        1.9183674,  2.1020408,  2.2857144,  2.4693878,  2.6530612,\n",
       "        2.8367348,  3.0204082,  3.2040815,  3.3877552,  3.5714285,\n",
       "        3.7551022,  3.9387755,  4.122449 ,  4.3061223,  4.4897957,\n",
       "        4.6734695,  4.857143 ,  5.0408163,  5.2244897,  5.408163 ,\n",
       "        5.591837 ,  5.7755103,  5.9591837,  6.142857 ,  6.3265305,\n",
       "        6.5102043,  6.6938777,  6.877551 ,  7.0612245,  7.244898 ,\n",
       "        7.428571 ,  7.612245 ,  7.7959185,  7.979592 ,  8.163265 ,\n",
       "        8.346939 ,  8.530612 ,  8.714286 ,  8.897959 ,  9.081633 ,\n",
       "        9.265306 ,  9.448979 ,  9.632653 ,  9.816326 , 10.       ],\n",
       "      dtype=float32)"
      ]
     },
     "execution_count": 12,
     "metadata": {},
     "output_type": "execute_result"
    }
   ],
   "source": [
    "np.linspace(1,10, dtype='float32')"
   ]
  },
  {
   "cell_type": "markdown",
   "id": "ed925f2a",
   "metadata": {},
   "source": [
    "#### 10. 9번에서 생성한 벡터를 32비트 정수형으로 변환하기"
   ]
  },
  {
   "cell_type": "code",
   "execution_count": 13,
   "id": "bac916de",
   "metadata": {
    "scrolled": true
   },
   "outputs": [
    {
     "data": {
      "text/plain": [
       "array([ 1,  1,  1,  1,  1,  1,  2,  2,  2,  2,  2,  3,  3,  3,  3,  3,  3,\n",
       "        4,  4,  4,  4,  4,  5,  5,  5,  5,  5,  5,  6,  6,  6,  6,  6,  7,\n",
       "        7,  7,  7,  7,  7,  8,  8,  8,  8,  8,  9,  9,  9,  9,  9, 10])"
      ]
     },
     "execution_count": 13,
     "metadata": {},
     "output_type": "execute_result"
    }
   ],
   "source": [
    "np.linspace(1,10, dtype='float32').astype(int)"
   ]
  },
  {
   "cell_type": "code",
   "execution_count": null,
   "id": "ba79e02d",
   "metadata": {},
   "outputs": [],
   "source": []
  },
  {
   "cell_type": "markdown",
   "id": "53226649",
   "metadata": {},
   "source": [
    "#### 11. 2022년 12월에 해당하는 모든 날짜를 갖는 벡터 생성하기\n",
    "\n",
    "- 힌트 : arange()함수 사용하되 데이터 유형을 'datetime64[D]'로 지정할 것"
   ]
  },
  {
   "cell_type": "code",
   "execution_count": 14,
   "id": "be3f9053",
   "metadata": {},
   "outputs": [
    {
     "data": {
      "text/plain": [
       "array(['2022-12-01', '2022-12-02', '2022-12-03', '2022-12-04',\n",
       "       '2022-12-05', '2022-12-06', '2022-12-07', '2022-12-08',\n",
       "       '2022-12-09', '2022-12-10', '2022-12-11', '2022-12-12',\n",
       "       '2022-12-13', '2022-12-14', '2022-12-15', '2022-12-16',\n",
       "       '2022-12-17', '2022-12-18', '2022-12-19', '2022-12-20',\n",
       "       '2022-12-21', '2022-12-22', '2022-12-23', '2022-12-24',\n",
       "       '2022-12-25', '2022-12-26', '2022-12-27', '2022-12-28',\n",
       "       '2022-12-29', '2022-12-30', '2022-12-31'], dtype='datetime64[D]')"
      ]
     },
     "execution_count": 14,
     "metadata": {},
     "output_type": "execute_result"
    }
   ],
   "source": [
    "np.arange('2022-12-01','2023-01-01',dtype='datetime64[D]')"
   ]
  },
  {
   "cell_type": "code",
   "execution_count": 21,
   "id": "07ba582e",
   "metadata": {},
   "outputs": [
    {
     "data": {
      "text/plain": [
       "array(['2022-12-01', '2022-12-02', '2022-12-03', '2022-12-04',\n",
       "       '2022-12-05', '2022-12-06', '2022-12-07', '2022-12-08',\n",
       "       '2022-12-09', '2022-12-10', '2022-12-11', '2022-12-12',\n",
       "       '2022-12-13', '2022-12-14', '2022-12-15', '2022-12-16',\n",
       "       '2022-12-17', '2022-12-18', '2022-12-19', '2022-12-20',\n",
       "       '2022-12-21', '2022-12-22', '2022-12-23', '2022-12-24',\n",
       "       '2022-12-25', '2022-12-26', '2022-12-27', '2022-12-28',\n",
       "       '2022-12-29', '2022-12-30', '2022-12-31'], dtype='datetime64[D]')"
      ]
     },
     "execution_count": 21,
     "metadata": {},
     "output_type": "execute_result"
    }
   ],
   "source": [
    "np.arange('2022-12','2023-01',dtype='datetime64[D]')"
   ]
  },
  {
   "cell_type": "code",
   "execution_count": 22,
   "id": "0f6d5274",
   "metadata": {},
   "outputs": [
    {
     "data": {
      "text/plain": [
       "array(['2022-12', '2023-01', '2023-02', '2023-03', '2023-04', '2023-05',\n",
       "       '2023-06', '2023-07', '2023-08', '2023-09', '2023-10', '2023-11'],\n",
       "      dtype='datetime64[M]')"
      ]
     },
     "execution_count": 22,
     "metadata": {},
     "output_type": "execute_result"
    }
   ],
   "source": [
    "np.arange('2022-12','2023-12',dtype='datetime64[M]')"
   ]
  },
  {
   "cell_type": "markdown",
   "id": "bc23786a",
   "metadata": {},
   "source": [
    "#### 12. 오늘의 날짜를 생성하고, 어제, 내일의 날짜 생성해보기\n",
    "- 힌트 : np.datetime64('today'), np.timedelta64() 사용"
   ]
  },
  {
   "cell_type": "code",
   "execution_count": 15,
   "id": "3073b489",
   "metadata": {},
   "outputs": [
    {
     "data": {
      "text/plain": [
       "numpy.datetime64('2023-02-15')"
      ]
     },
     "execution_count": 15,
     "metadata": {},
     "output_type": "execute_result"
    }
   ],
   "source": [
    "np.datetime64('today')"
   ]
  },
  {
   "cell_type": "code",
   "execution_count": 16,
   "id": "567eff5e",
   "metadata": {},
   "outputs": [
    {
     "data": {
      "text/plain": [
       "numpy.datetime64('2023-02-14')"
      ]
     },
     "execution_count": 16,
     "metadata": {},
     "output_type": "execute_result"
    }
   ],
   "source": [
    "np.datetime64('today') - np.timedelta64(1, 'D')"
   ]
  },
  {
   "cell_type": "code",
   "execution_count": 17,
   "id": "731e1033",
   "metadata": {},
   "outputs": [
    {
     "data": {
      "text/plain": [
       "numpy.datetime64('2023-02-16')"
      ]
     },
     "execution_count": 17,
     "metadata": {},
     "output_type": "execute_result"
    }
   ],
   "source": [
    "np.datetime64('today') + np.timedelta64(1, 'D')"
   ]
  },
  {
   "cell_type": "markdown",
   "id": "78960b0f",
   "metadata": {},
   "source": [
    "----"
   ]
  }
 ],
 "metadata": {
  "kernelspec": {
   "display_name": "Python 3 (ipykernel)",
   "language": "python",
   "name": "python3"
  },
  "language_info": {
   "codemirror_mode": {
    "name": "ipython",
    "version": 3
   },
   "file_extension": ".py",
   "mimetype": "text/x-python",
   "name": "python",
   "nbconvert_exporter": "python",
   "pygments_lexer": "ipython3",
   "version": "3.9.13"
  }
 },
 "nbformat": 4,
 "nbformat_minor": 5
}
