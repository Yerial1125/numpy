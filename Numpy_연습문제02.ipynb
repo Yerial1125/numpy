{
 "cells": [
  {
   "cell_type": "markdown",
   "id": "75a2f0d6",
   "metadata": {},
   "source": [
    "## Numpy 연습문제2"
   ]
  },
  {
   "cell_type": "code",
   "execution_count": 1,
   "id": "c7d94cdc",
   "metadata": {},
   "outputs": [],
   "source": [
    "import numpy as np"
   ]
  },
  {
   "cell_type": "markdown",
   "id": "ce6bc591",
   "metadata": {},
   "source": [
    "#### 1. 값 20~49를 갖는 벡터 x  생성하기"
   ]
  },
  {
   "cell_type": "code",
   "execution_count": null,
   "id": "8187b84f",
   "metadata": {},
   "outputs": [],
   "source": []
  },
  {
   "cell_type": "markdown",
   "id": "ab1b401c",
   "metadata": {},
   "source": [
    "#### 2. 1번에서 생성한 벡터 요소를 역순으로 갖는 벡터 출력하기 "
   ]
  },
  {
   "cell_type": "code",
   "execution_count": null,
   "id": "47a7d869",
   "metadata": {},
   "outputs": [],
   "source": []
  },
  {
   "cell_type": "markdown",
   "id": "fbb1f612",
   "metadata": {},
   "source": [
    "#### 3. 다음의 코드의 실행 결과를 예상해보기"
   ]
  },
  {
   "cell_type": "markdown",
   "id": "d33d1418",
   "metadata": {},
   "source": [
    "**1)**"
   ]
  },
  {
   "cell_type": "markdown",
   "id": "f7a5c8d0",
   "metadata": {},
   "source": [
    "0 * np.nan"
   ]
  },
  {
   "cell_type": "markdown",
   "id": "3a0b8761",
   "metadata": {},
   "source": [
    "**2)**"
   ]
  },
  {
   "cell_type": "markdown",
   "id": "5dc7bae9",
   "metadata": {},
   "source": [
    "np.nan == np.nan"
   ]
  },
  {
   "cell_type": "markdown",
   "id": "e908946d",
   "metadata": {},
   "source": [
    "**3)**"
   ]
  },
  {
   "cell_type": "markdown",
   "id": "32a0a8bf",
   "metadata": {},
   "source": [
    "np.nan - np.nan"
   ]
  },
  {
   "cell_type": "markdown",
   "id": "98528724",
   "metadata": {},
   "source": [
    "**4)**"
   ]
  },
  {
   "cell_type": "markdown",
   "id": "6cdcbae3",
   "metadata": {},
   "source": [
    "np.inf > np.nan"
   ]
  },
  {
   "cell_type": "markdown",
   "id": "ae18edf7",
   "metadata": {},
   "source": [
    "**5)**"
   ]
  },
  {
   "cell_type": "markdown",
   "id": "3d0356b5",
   "metadata": {},
   "source": [
    "np.nan in set([np.nan])"
   ]
  },
  {
   "cell_type": "markdown",
   "id": "318c2e9c",
   "metadata": {},
   "source": [
    "#### 4. 모두 1의 요소를 갖는 5X3 크기 행렬 A와 3X2 크기 행렬 B 생성하기"
   ]
  },
  {
   "cell_type": "code",
   "execution_count": null,
   "id": "2f988fcd",
   "metadata": {},
   "outputs": [],
   "source": []
  },
  {
   "cell_type": "markdown",
   "id": "018e7359",
   "metadata": {},
   "source": [
    "#### 5. 4번에서 생성한 두 행렬의 곱(dot)을 한 결과는?"
   ]
  },
  {
   "cell_type": "code",
   "execution_count": null,
   "id": "ddca391b",
   "metadata": {},
   "outputs": [],
   "source": []
  },
  {
   "cell_type": "markdown",
   "id": "8e736ddb",
   "metadata": {},
   "source": [
    "#### 6. 다음의 결과를 예상하시오."
   ]
  },
  {
   "cell_type": "markdown",
   "id": "4ff45003",
   "metadata": {},
   "source": [
    "**1)**"
   ]
  },
  {
   "cell_type": "markdown",
   "id": "bb40a75e",
   "metadata": {},
   "source": [
    "np.array(0) / np.array(0)"
   ]
  },
  {
   "cell_type": "markdown",
   "id": "296eb6aa",
   "metadata": {},
   "source": [
    "**2)**"
   ]
  },
  {
   "cell_type": "markdown",
   "id": "473309e9",
   "metadata": {},
   "source": [
    "np.array(0) // np.array(0)"
   ]
  },
  {
   "cell_type": "markdown",
   "id": "ff663312",
   "metadata": {},
   "source": [
    "**3)**"
   ]
  },
  {
   "cell_type": "markdown",
   "id": "2f6c8b15",
   "metadata": {},
   "source": [
    "np.array([np.nan]).astype(int).astype(float)"
   ]
  },
  {
   "cell_type": "markdown",
   "id": "033314bc",
   "metadata": {},
   "source": [
    "#### 7. 1번에서 생성한 벡터에서 30에서 38사이의 모든 요소 가져오기"
   ]
  },
  {
   "cell_type": "code",
   "execution_count": null,
   "id": "c57c9bb2",
   "metadata": {},
   "outputs": [],
   "source": []
  },
  {
   "cell_type": "markdown",
   "id": "8a00709d",
   "metadata": {},
   "source": [
    "#### 8. 크기 10의 실수 랜덤 벡터를 생성하고, 최대값을 0으로 변경하기"
   ]
  },
  {
   "cell_type": "code",
   "execution_count": null,
   "id": "7d9caf3f",
   "metadata": {},
   "outputs": [],
   "source": []
  },
  {
   "cell_type": "markdown",
   "id": "ef49effa",
   "metadata": {},
   "source": [
    "#### 9. 1에서 10사이의 실수를 등간격으로 50개 갖는 벡터를 생성하되 32비트 실수로 생성하기"
   ]
  },
  {
   "cell_type": "code",
   "execution_count": null,
   "id": "100f7793",
   "metadata": {},
   "outputs": [],
   "source": []
  },
  {
   "cell_type": "markdown",
   "id": "ed925f2a",
   "metadata": {},
   "source": [
    "#### 10. 9번에서 생성한 벡터를 32비트 정수형으로 변환하기"
   ]
  },
  {
   "cell_type": "code",
   "execution_count": null,
   "id": "bac916de",
   "metadata": {
    "scrolled": true
   },
   "outputs": [],
   "source": []
  },
  {
   "cell_type": "code",
   "execution_count": null,
   "id": "ba79e02d",
   "metadata": {},
   "outputs": [],
   "source": []
  },
  {
   "cell_type": "markdown",
   "id": "53226649",
   "metadata": {},
   "source": [
    "#### 11. 2022년 12월에 해당하는 모든 날짜를 갖는 벡터 생성하기\n",
    "\n",
    "- 힌트 : arange()함수 사용하되 데이터 유형을 'datetime64[D]'로 지정할 것"
   ]
  },
  {
   "cell_type": "code",
   "execution_count": null,
   "id": "be3f9053",
   "metadata": {},
   "outputs": [],
   "source": []
  },
  {
   "cell_type": "markdown",
   "id": "bc23786a",
   "metadata": {},
   "source": [
    "#### 12. 오늘의 날짜를 생성하고, 어제, 내일의 날짜 생성해보기\n",
    "- 힌트 : np.datetime64('today'), np.timedelta64() 사용"
   ]
  },
  {
   "cell_type": "code",
   "execution_count": null,
   "id": "3073b489",
   "metadata": {},
   "outputs": [],
   "source": []
  },
  {
   "cell_type": "code",
   "execution_count": null,
   "id": "567eff5e",
   "metadata": {},
   "outputs": [],
   "source": []
  },
  {
   "cell_type": "code",
   "execution_count": null,
   "id": "731e1033",
   "metadata": {},
   "outputs": [],
   "source": []
  },
  {
   "cell_type": "markdown",
   "id": "78960b0f",
   "metadata": {},
   "source": [
    "----"
   ]
  }
 ],
 "metadata": {
  "kernelspec": {
   "display_name": "Python 3 (ipykernel)",
   "language": "python",
   "name": "python3"
  },
  "language_info": {
   "codemirror_mode": {
    "name": "ipython",
    "version": 3
   },
   "file_extension": ".py",
   "mimetype": "text/x-python",
   "name": "python",
   "nbconvert_exporter": "python",
   "pygments_lexer": "ipython3",
   "version": "3.9.13"
  }
 },
 "nbformat": 4,
 "nbformat_minor": 5
}
