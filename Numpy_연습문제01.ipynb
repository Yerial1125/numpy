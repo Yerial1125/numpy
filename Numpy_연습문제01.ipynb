{
 "cells": [
  {
   "cell_type": "markdown",
   "id": "75a2f0d6",
   "metadata": {},
   "source": [
    "## Numpy 연습문제1"
   ]
  },
  {
   "cell_type": "markdown",
   "id": "f5ab92e9",
   "metadata": {},
   "source": [
    "#### 1. np이름으로 numpy 패키지 가져오기"
   ]
  },
  {
   "cell_type": "code",
   "execution_count": 1,
   "id": "2da7c108",
   "metadata": {},
   "outputs": [],
   "source": [
    "import numpy as np"
   ]
  },
  {
   "cell_type": "markdown",
   "id": "7455d8a7",
   "metadata": {},
   "source": [
    "#### 2. numpy 버전 출력하기"
   ]
  },
  {
   "cell_type": "code",
   "execution_count": 2,
   "id": "82df5a56",
   "metadata": {},
   "outputs": [
    {
     "data": {
      "text/plain": [
       "'1.21.5'"
      ]
     },
     "execution_count": 2,
     "metadata": {},
     "output_type": "execute_result"
    }
   ],
   "source": [
    "np.__version__"
   ]
  },
  {
   "cell_type": "markdown",
   "id": "411f7038",
   "metadata": {},
   "source": [
    "#### 3. 모두 0의 값을 갖는 사이즈가 10인 벡터 생성하기"
   ]
  },
  {
   "cell_type": "code",
   "execution_count": 3,
   "id": "d8da97d6",
   "metadata": {},
   "outputs": [
    {
     "data": {
      "text/plain": [
       "array([0., 0., 0., 0., 0., 0., 0., 0., 0., 0.])"
      ]
     },
     "execution_count": 3,
     "metadata": {},
     "output_type": "execute_result"
    }
   ],
   "source": [
    "np.zeros(10)"
   ]
  },
  {
   "cell_type": "markdown",
   "id": "ce6bc591",
   "metadata": {},
   "source": [
    "#### 4. 값 10~49를 갖는 벡터 생성하기"
   ]
  },
  {
   "cell_type": "code",
   "execution_count": 4,
   "id": "8187b84f",
   "metadata": {},
   "outputs": [
    {
     "data": {
      "text/plain": [
       "array([10, 11, 12, 13, 14, 15, 16, 17, 18, 19, 20, 21, 22, 23, 24, 25, 26,\n",
       "       27, 28, 29, 30, 31, 32, 33, 34, 35, 36, 37, 38, 39, 40, 41, 42, 43,\n",
       "       44, 45, 46, 47, 48, 49])"
      ]
     },
     "execution_count": 4,
     "metadata": {},
     "output_type": "execute_result"
    }
   ],
   "source": [
    "np.arange(10,50)"
   ]
  },
  {
   "cell_type": "markdown",
   "id": "ab1b401c",
   "metadata": {},
   "source": [
    "#### 5. 4번에서 생성한 벡터 요소를 역순으로 갖는 벡터 출력하기 "
   ]
  },
  {
   "cell_type": "code",
   "execution_count": null,
   "id": "47a7d869",
   "metadata": {},
   "outputs": [],
   "source": []
  },
  {
   "cell_type": "markdown",
   "id": "b2f84df3",
   "metadata": {},
   "source": [
    "#### 6. 0~8 사이의 정수 값을 3X3 크기로 갖는 행렬 생성하기 "
   ]
  },
  {
   "cell_type": "code",
   "execution_count": 7,
   "id": "837d195d",
   "metadata": {},
   "outputs": [
    {
     "data": {
      "text/plain": [
       "array([[0, 1, 2],\n",
       "       [3, 4, 5],\n",
       "       [6, 7, 8]])"
      ]
     },
     "execution_count": 7,
     "metadata": {},
     "output_type": "execute_result"
    }
   ],
   "source": [
    "np.arange(9).reshape(3,3)"
   ]
  },
  {
   "cell_type": "code",
   "execution_count": 5,
   "id": "d4147c05",
   "metadata": {},
   "outputs": [
    {
     "data": {
      "text/plain": [
       "array([[4, 6, 3],\n",
       "       [7, 6, 4],\n",
       "       [0, 4, 5]])"
      ]
     },
     "execution_count": 5,
     "metadata": {},
     "output_type": "execute_result"
    }
   ],
   "source": [
    "np.random.randint(8,size=(3,3))"
   ]
  },
  {
   "cell_type": "markdown",
   "id": "05ced12a",
   "metadata": {},
   "source": [
    "#### 7. 실수 난수를 3X3X3의 크기로 갖는 배열 생성하기"
   ]
  },
  {
   "cell_type": "code",
   "execution_count": 6,
   "id": "aa79f4cc",
   "metadata": {},
   "outputs": [
    {
     "data": {
      "text/plain": [
       "array([[[0.18601966, 0.77055134, 0.24007976],\n",
       "        [0.99099419, 0.68645493, 0.7349993 ],\n",
       "        [0.78311665, 0.35697327, 0.97762891]],\n",
       "\n",
       "       [[0.30145426, 0.69207623, 0.38478395],\n",
       "        [0.74149719, 0.45951511, 0.55911483],\n",
       "        [0.47393992, 0.65482603, 0.98833694]],\n",
       "\n",
       "       [[0.7642018 , 0.07060519, 0.33520767],\n",
       "        [0.73270446, 0.75771932, 0.22411276],\n",
       "        [0.25870374, 0.25830416, 0.91240904]]])"
      ]
     },
     "execution_count": 6,
     "metadata": {},
     "output_type": "execute_result"
    }
   ],
   "source": [
    "np.random.rand(3,3,3)"
   ]
  },
  {
   "cell_type": "markdown",
   "id": "318c2e9c",
   "metadata": {},
   "source": [
    "#### 8. 모두 1의 요소를 갖는 5X3 크기 행렬과 3X2 크기 행렬의 곱의 결과는?"
   ]
  },
  {
   "cell_type": "code",
   "execution_count": null,
   "id": "2f988fcd",
   "metadata": {},
   "outputs": [],
   "source": []
  },
  {
   "cell_type": "markdown",
   "id": "68c3e8c3",
   "metadata": {},
   "source": [
    "-----"
   ]
  }
 ],
 "metadata": {
  "kernelspec": {
   "display_name": "Python 3 (ipykernel)",
   "language": "python",
   "name": "python3"
  },
  "language_info": {
   "codemirror_mode": {
    "name": "ipython",
    "version": 3
   },
   "file_extension": ".py",
   "mimetype": "text/x-python",
   "name": "python",
   "nbconvert_exporter": "python",
   "pygments_lexer": "ipython3",
   "version": "3.9.13"
  }
 },
 "nbformat": 4,
 "nbformat_minor": 5
}
