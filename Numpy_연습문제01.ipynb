{
 "cells": [
  {
   "cell_type": "markdown",
   "id": "75a2f0d6",
   "metadata": {},
   "source": [
    "## Numpy 연습문제1"
   ]
  },
  {
   "cell_type": "markdown",
   "id": "f5ab92e9",
   "metadata": {},
   "source": [
    "#### 1. np이름으로 numpy 패키지 가져오기"
   ]
  },
  {
   "cell_type": "code",
   "execution_count": null,
   "id": "2da7c108",
   "metadata": {},
   "outputs": [],
   "source": []
  },
  {
   "cell_type": "markdown",
   "id": "7455d8a7",
   "metadata": {},
   "source": [
    "#### 2. numpy 버전 출력하기"
   ]
  },
  {
   "cell_type": "code",
   "execution_count": null,
   "id": "82df5a56",
   "metadata": {},
   "outputs": [],
   "source": []
  },
  {
   "cell_type": "markdown",
   "id": "411f7038",
   "metadata": {},
   "source": [
    "#### 3. 모두 0의 값을 갖는 사이즈가 10인 벡터 생성하기"
   ]
  },
  {
   "cell_type": "code",
   "execution_count": null,
   "id": "d8da97d6",
   "metadata": {},
   "outputs": [],
   "source": []
  },
  {
   "cell_type": "markdown",
   "id": "ce6bc591",
   "metadata": {},
   "source": [
    "#### 4. 값 10~49를 갖는 벡터 생성하기"
   ]
  },
  {
   "cell_type": "code",
   "execution_count": null,
   "id": "8187b84f",
   "metadata": {},
   "outputs": [],
   "source": []
  },
  {
   "cell_type": "markdown",
   "id": "ab1b401c",
   "metadata": {},
   "source": [
    "#### 5. 4번에서 생성한 벡터 요소를 역순으로 갖는 벡터 출력하기 "
   ]
  },
  {
   "cell_type": "code",
   "execution_count": null,
   "id": "47a7d869",
   "metadata": {},
   "outputs": [],
   "source": []
  },
  {
   "cell_type": "markdown",
   "id": "b2f84df3",
   "metadata": {},
   "source": [
    "#### 6. 0~8 사이의 정수 값을 3X3 크기로 갖는 행렬 생성하기 "
   ]
  },
  {
   "cell_type": "code",
   "execution_count": null,
   "id": "d4147c05",
   "metadata": {},
   "outputs": [],
   "source": []
  },
  {
   "cell_type": "markdown",
   "id": "05ced12a",
   "metadata": {},
   "source": [
    "#### 7. 실수 난수를 3X3X3의 크기로 갖는 배열 생성하기"
   ]
  },
  {
   "cell_type": "code",
   "execution_count": null,
   "id": "aa79f4cc",
   "metadata": {},
   "outputs": [],
   "source": []
  },
  {
   "cell_type": "markdown",
   "id": "318c2e9c",
   "metadata": {},
   "source": [
    "#### 8. 모두 1의 요소를 갖는 5X3 크기 행렬과 3X2 크기 행렬의 곱의 결과는?"
   ]
  },
  {
   "cell_type": "code",
   "execution_count": null,
   "id": "2f988fcd",
   "metadata": {},
   "outputs": [],
   "source": []
  },
  {
   "cell_type": "markdown",
   "id": "68c3e8c3",
   "metadata": {},
   "source": [
    "-----"
   ]
  }
 ],
 "metadata": {
  "kernelspec": {
   "display_name": "Python 3 (ipykernel)",
   "language": "python",
   "name": "python3"
  },
  "language_info": {
   "codemirror_mode": {
    "name": "ipython",
    "version": 3
   },
   "file_extension": ".py",
   "mimetype": "text/x-python",
   "name": "python",
   "nbconvert_exporter": "python",
   "pygments_lexer": "ipython3",
   "version": "3.9.13"
  }
 },
 "nbformat": 4,
 "nbformat_minor": 5
}
